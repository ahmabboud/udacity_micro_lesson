{
 "cells": [
  {
   "cell_type": "markdown",
   "metadata": {},
   "source": [
    "# Fine-Tuning GPT-2 with Data Parallelism\n",
    "\n",
    "This notebook demonstrates how to fine-tune a pretrained GPT-2 model using PyTorch's `DataParallel` to distribute training across multiple GPUs.\n",
    "\n",
    "## Prerequisites\n",
    "- Python 3.x\n",
    "- PyTorch\n",
    "- Hugging Face Transformers library\n",
    "- A dataset for fine-tuning (e.g., WikiText-2)\n",
    "\n",
    "## Steps\n",
    "1. Install required libraries. \n",
    "2. Load the pretrained GPT-2 model and tokenizer.\n",
    "3. Tokenize the dataset.\n",
    "4. Use `DataParallel` for distributed training.\n",
    "5. Fine-tune the model."
   ]
  },
  {
   "cell_type": "markdown",
   "id": "c3b37ed4",
   "metadata": {},
   "source": [
    "# 1. Install required libraries. "
   ]
  },
  {
   "cell_type": "code",
   "execution_count": 21,
   "metadata": {},
   "outputs": [],
   "source": [
    "# %pip install -r requirements.txt"
   ]
  },
  {
   "cell_type": "markdown",
   "id": "1f38854e",
   "metadata": {},
   "source": [
    "## Import required libraries"
   ]
  },
  {
   "cell_type": "code",
   "execution_count": 14,
   "metadata": {},
   "outputs": [],
   "source": [
    "# Import necessary libraries\n",
    "from transformers import AutoModelForCausalLM, AutoTokenizer\n",
    "from datasets import load_dataset\n",
    "import torch\n",
    "from torch.nn.parallel import DataParallel\n",
    "import time"
   ]
  },
  {
   "cell_type": "markdown",
   "id": "578e7b16",
   "metadata": {},
   "source": [
    "# 2. Load the pretrained GPT-2 model and tokenizer\n"
   ]
  },
  {
   "cell_type": "code",
   "execution_count": 15,
   "metadata": {},
   "outputs": [],
   "source": [
    "\n",
    "model = AutoModelForCausalLM.from_pretrained('gpt2')\n",
    "tokenizer = AutoTokenizer.from_pretrained('gpt2')\n",
    "\n",
    "# Set an existing token (e.g., eos_token) as the padding token (The GPT-2 tokenizer already has an eos_token (End of Sequence) that can serve as a padding token)\n",
    "tokenizer.pad_token = tokenizer.eos_token\n",
    "\n",
    "# Load a small dataset (e.g., WikiText-2)\n",
    "dataset = load_dataset('wikitext', 'wikitext-2-v1', split='train[:1%]')"
   ]
  },
  {
   "cell_type": "markdown",
   "id": "ce0ab894",
   "metadata": {},
   "source": [
    "# 3. Tokenize the dataset"
   ]
  },
  {
   "cell_type": "code",
   "execution_count": 16,
   "metadata": {},
   "outputs": [],
   "source": [
    "\n",
    "def tokenize_function(examples):\n",
    "    return tokenizer(examples['text'], padding='max_length', truncation=True, max_length=128)\n",
    "\n",
    "# Tokenize the dataset\n",
    "tokenized_dataset = dataset.map(tokenize_function, batched=True)\n",
    "# print(\"Tokenization completed successfully!\")"
   ]
  },
  {
   "cell_type": "markdown",
   "id": "9ad715ab",
   "metadata": {},
   "source": [
    "# 4. Use `DataParallel` for distributed training."
   ]
  },
  {
   "cell_type": "code",
   "execution_count": 18,
   "id": "0dedf0b8",
   "metadata": {},
   "outputs": [
    {
     "name": "stdout",
     "output_type": "stream",
     "text": [
      "CUDA is not available.\n"
     ]
    }
   ],
   "source": [
    "\n",
    "\n",
    "# Check if CUDA is available\n",
    "if torch.cuda.is_available():\n",
    "    print(\"CUDA is available!\")\n",
    "    print(f\"Number of GPUs: {torch.cuda.device_count()}\")\n",
    "\n",
    "    # Get the name of each GPU\n",
    "    for i in range(torch.cuda.device_count()):\n",
    "        print(f\"GPU {i}: {torch.cuda.get_device_name(i)}\")\n",
    "\n",
    "        # Print memory usage\n",
    "        print(f\"Allocated memory on GPU {i}: {torch.cuda.memory_allocated(i) / 1024**2:.2f} MB\")\n",
    "        print(f\"Cached memory on GPU {i}: {torch.cuda.memory_reserved(i) / 1024**2:.2f} MB\")\n",
    "else:\n",
    "    print(\"CUDA is not available.\")"
   ]
  },
  {
   "cell_type": "code",
   "execution_count": 12,
   "metadata": {},
   "outputs": [],
   "source": [
    "# Move model to GPU(s) and wrap with DataParallel if multiple GPUs are available\n",
    "device = torch.device('cuda' if torch.cuda.is_available() else 'cpu')\n",
    "\n",
    "# Move model to device\n",
    "model = model.to(device)\n",
    "\n",
    "# Wrap model with DataParallel if multiple GPUs are available\n",
    "if torch.cuda.device_count() > 1:\n",
    "    print(f\"Using {torch.cuda.device_count()} GPUs!\")\n",
    "    model = DataParallel(model)"
   ]
  },
  {
   "cell_type": "markdown",
   "id": "01e5f90a",
   "metadata": {},
   "source": [
    "\n",
    "# 5. Fine-tune the model."
   ]
  },
  {
   "cell_type": "code",
   "execution_count": 17,
   "id": "91fcbda8",
   "metadata": {},
   "outputs": [
    {
     "name": "stdout",
     "output_type": "stream",
     "text": [
      "Loss: 10.270589828491211\n",
      "Training step completed in 1.15 seconds!\n"
     ]
    }
   ],
   "source": [
    "# Prepare inputs and labels for a small batch of data (batch size = 8)\n",
    "input_ids = torch.tensor(tokenized_dataset['input_ids'][:8]).to(device)  # Batch size: 8 examples\n",
    "labels = input_ids.clone()\n",
    "\n",
    "# Define optimizer\n",
    "optimizer = torch.optim.AdamW(model.parameters(), lr=5e-5)\n",
    "\n",
    "# Measure the start time\n",
    "start_time = time.time()\n",
    "\n",
    "# Forward pass\n",
    "outputs = model(input_ids, labels=labels)\n",
    "loss = outputs.loss\n",
    "print(f\"Loss: {loss.item()}\")\n",
    "\n",
    "# Backward pass and optimization step\n",
    "loss.backward()\n",
    "optimizer.step()\n",
    "\n",
    "# Measure the end time\n",
    "end_time = time.time()\n",
    "\n",
    "# Calculate and display elapsed time\n",
    "elapsed_time = end_time - start_time\n",
    "print(f\"Training step completed in {elapsed_time:.2f} seconds!\")"
   ]
  },
  {
   "cell_type": "markdown",
   "metadata": {},
   "source": [
    "**Next Steps:**\n",
    "- Experiment with different datasets.\n",
    "- Adjust hyperparameters like learning rate and batch size."
   ]
  }
 ],
 "metadata": {
  "kernelspec": {
   "display_name": ".venv",
   "language": "python",
   "name": "python3"
  },
  "language_info": {
   "codemirror_mode": {
    "name": "ipython",
    "version": 3
   },
   "file_extension": ".py",
   "mimetype": "text/x-python",
   "name": "python",
   "nbconvert_exporter": "python",
   "pygments_lexer": "ipython3",
   "version": "3.12.8"
  }
 },
 "nbformat": 4,
 "nbformat_minor": 5
}
