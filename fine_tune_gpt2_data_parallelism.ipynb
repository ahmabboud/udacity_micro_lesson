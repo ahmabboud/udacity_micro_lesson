{
 "cells": [
  {
   "cell_type": "markdown",
   "metadata": {},
   "source": [
    "# Fine-Tuning GPT-2 with Data Parallelism\n",
    "\n",
    "This notebook demonstrates how to fine-tune a pretrained GPT-2 model using PyTorch's `DataParallel` to distribute training across multiple GPUs.\n",
    "\n",
    "## Prerequisites\n",
    "- Python 3.x\n",
    "- PyTorch 2.6.0\n",
    "- Hugging Face Transformers library 4.48.0\n",
    "- A dataset for fine-tuning (e.g., WikiText-2)\n",
    "\n",
    "## Steps\n",
    "1. Install required libraries.\n",
    "2. Load the pretrained GPT-2 model and tokenizer.\n",
    "3. Tokenize the dataset.\n",
    "4. Use `DataParallel` for distributed training.\n",
    "5. Fine-tune the model."
   ]
  },
  {
   "cell_type": "code",
   "execution_count": null,
   "metadata": {},
   "outputs": [],
   "source": [
    "!pip install torch==2.6.0 transformers==4.48.0 datasets==3.2.0"
   ]
  },
  {
   "cell_type": "code",
   "execution_count": null,
   "metadata": {},
   "outputs": [],
   "source": [
    "from transformers import AutoModelForCausalLM, AutoTokenizer\n",
    "from datasets import load_dataset\n",
    "import torch\n",
    "from torch.nn.parallel import DataParallel\n",
    "\n",
    "# Load pretrained GPT-2 model and tokenizer\n",
    "model = AutoModelForCausalLM.from_pretrained('gpt2')\n",
    "tokenizer = AutoTokenizer.from_pretrained('gpt2')\n",
    "\n",
    "# Load a small dataset (e.g., WikiText-2)\n",
    "dataset = load_dataset('wikitext', 'wikitext-2-v1', split='train[:1%]')\n"
   ]
  },
  {
   "cell_type": "code",
   "execution_count": null,
   "metadata": {},
   "outputs": [],
   "source": [
    "# Tokenize the dataset\n",
    "def tokenize_function(examples):\n",
    "    return tokenizer(examples['text'], padding='max_length', truncation=True, max_length=128)\n",
    "\n",
    "tokenized_dataset = dataset.map(tokenize_function, batched=True)"
   ]
  },
  {
   "cell_type": "code",
   "execution_count": null,
   "metadata": {},
   "outputs": [],
   "source": [
    "# Move model to GPU(s) and wrap with DataParallel\n",
    "device = torch.device('cuda' if torch.cuda.is_available() else 'cpu')\n",
    "model = model.to(device)\n",
    "\n",
    "# Wrap model with DataParallel if multiple GPUs are available\n",
    "if torch.cuda.device_count() > 1:\n",
    "    print(f\"Using {torch.cuda.device_count()} GPUs!\")\n",
    "    model = DataParallel(model)\n"
   ]
  },
  {
   "cell_type": "code",
   "execution_count": null,
   "metadata": {},
   "outputs": [],
   "source": [
    "# Dummy training loop\n",
    "# Select a small batch of data for demonstration purposes\n",
    "\n",
    "# Prepare inputs and labels\n",
    "input_ids = torch.tensor(tokenized_dataset['input_ids'][:8]).to(device)  # Batch size of 8\n",
    "labels = input_ids.clone()\n",
    "\n",
    "# Define optimizer\n",
    "optimizer = torch.optim.AdamW(model.parameters(), lr=5e-5)\n",
    "\n",
    "# Forward pass\n",
    "outputs = model(input_ids, labels=labels)\n",
    "\n",
    "# Compute loss\n",
    "loss = outputs.loss\n",
    "\n",
    "# Backward pass and optimization step\n",
    "loss.backward()\n",
    "\optimizer.step()\n"
   ]
  },
  {
   "cell_type": "markdown",
   "metadata": {},
   "source": [
    "**Training step completed!**"
   ]
  },
  {
   "cell_type": "markdown",
   "metadata": {},
   "source": [
     "**Next Steps:**\n", 
     "- Experiment with different datasets.\n", 
     "- Adjust hyperparameters like learning rate and batch size.\"]"
      ]
