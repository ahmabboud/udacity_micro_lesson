{
 "cells": [
  {
   "cell_type": "markdown",
   "metadata": {},
   "source": [
    "# Parameter-Efficient Fine-Tuning with LoRA\n",
    "\n",
    "This notebook demonstrates how to use **LoRA (Low-Rank Adaptation)** to fine-tune a pretrained GPT-2 model efficiently. LoRA reduces memory usage and computational costs by freezing most model parameters and training small, low-rank matrices."
   ]
  },
  {
   "cell_type": "code",
   "execution_count": 1,
   "metadata": {},
   "outputs": [],
   "source": [
    "# Install required libraries\n",
    "# !pip install transformers datasets peft torch"
   ]
  },
  {
   "cell_type": "markdown",
   "metadata": {},
   "source": [
    "## Step 1: Load Pretrained GPT-2 Model and Tokenizer"
   ]
  },
  {
   "cell_type": "code",
   "execution_count": 2,
   "metadata": {},
   "outputs": [
    {
     "name": "stderr",
     "output_type": "stream",
     "text": [
      "/Users/ahb/Documents/projects/Udacity Author/Micro Lesson/Exercise/udacity_micro_lesson/.venv/lib/python3.12/site-packages/tqdm/auto.py:21: TqdmWarning: IProgress not found. Please update jupyter and ipywidgets. See https://ipywidgets.readthedocs.io/en/stable/user_install.html\n",
      "  from .autonotebook import tqdm as notebook_tqdm\n"
     ]
    },
    {
     "name": "stdout",
     "output_type": "stream",
     "text": [
      "Model loaded successfully!\n"
     ]
    }
   ],
   "source": [
    "from transformers import AutoModelForCausalLM, AutoTokenizer\n",
    "\n",
    "# Load GPT-2 model and tokenizer\n",
    "model = AutoModelForCausalLM.from_pretrained(\"gpt2\")\n",
    "tokenizer = AutoTokenizer.from_pretrained(\"gpt2\")\n",
    "\n",
    "# Print model summary\n",
    "print(\"Model loaded successfully!\")"
   ]
  },
  {
   "cell_type": "markdown",
   "metadata": {},
   "source": [
    "## Step 2: Apply LoRA Configuration to the Model"
   ]
  },
  {
   "cell_type": "code",
   "execution_count": 3,
   "metadata": {},
   "outputs": [
    {
     "name": "stdout",
     "output_type": "stream",
     "text": [
      "LoRA applied successfully!\n"
     ]
    },
    {
     "name": "stderr",
     "output_type": "stream",
     "text": [
      "/Users/ahb/Documents/projects/Udacity Author/Micro Lesson/Exercise/udacity_micro_lesson/.venv/lib/python3.12/site-packages/peft/tuners/lora/layer.py:1264: UserWarning: fan_in_fan_out is set to False but the target module is `Conv1D`. Setting fan_in_fan_out to True.\n",
      "  warnings.warn(\n"
     ]
    }
   ],
   "source": [
    "from peft import LoraConfig, get_peft_model\n",
    "\n",
    "# Define LoRA configuration\n",
    "lora_config = LoraConfig(\n",
    "    r=8,            # Low-rank dimension\n",
    "    lora_alpha=32,  # Scaling factor\n",
    "    target_modules=[\"c_attn\", \"c_proj\"],  # Target attention layers\n",
    "    lora_dropout=0.1,\n",
    ") \n",
    "\n",
    "# Apply LoRA to the model\n",
    "model = get_peft_model(model, lora_config)\n",
    "\n",
    "# Print confirmation\n",
    "print(\"LoRA applied successfully!\")"
   ]
  },
  {
   "cell_type": "markdown",
   "metadata": {},
   "source": [
    "## Step 3: Load and Tokenize Dataset"
   ]
  },
  {
   "cell_type": "code",
   "execution_count": 4,
   "metadata": {},
   "outputs": [
    {
     "name": "stdout",
     "output_type": "stream",
     "text": [
      "Dataset tokenized successfully!\n"
     ]
    }
   ],
   "source": [
    "from datasets import load_dataset\n",
    "\n",
    "# Load a small dataset (e.g., WikiText)\n",
    "dataset = load_dataset('wikitext', 'wikitext-2-v1', split='train[:1%]')\n",
    "\n",
    "# Set an existing token (e.g., eos_token) as the padding token (The GPT-2 tokenizer already has an eos_token (End of Sequence) that can serve as a padding token)\n",
    "tokenizer.pad_token = tokenizer.eos_token\n",
    "\n",
    "# Tokenize the dataset\n",
    "def tokenize_function(examples):\n",
    "    return tokenizer(examples[\"text\"], padding=\"max_length\", truncation=True, max_length=128)\n",
    "\n",
    "# Apply tokenization\n",
    "tokenized_dataset = dataset.map(tokenize_function, batched=True)\n",
    "\n",
    "# Convert tokenized dataset to PyTorch tensors\n",
    "tokenized_dataset.set_format(type=\"torch\", columns=[\"input_ids\", \"attention_mask\"])\n",
    "\n",
    "# Print confirmation\n",
    "print(\"Dataset tokenized successfully!\")"
   ]
  },
  {
   "cell_type": "markdown",
   "metadata": {},
   "source": [
    "## Step 4: Simulate Training with LoRA"
   ]
  },
  {
   "cell_type": "code",
   "execution_count": 7,
   "metadata": {},
   "outputs": [
    {
     "name": "stdout",
     "output_type": "stream",
     "text": [
      "Starting epoch 1\n",
      "Loss: 11.213605880737305\n",
      "Loss: 9.260119438171387\n",
      "Loss: 7.137081146240234\n",
      "Loss: 11.074289321899414\n",
      "Loss: 8.74384593963623\n",
      "Loss: 7.979244709014893\n",
      "Loss: 10.354158401489258\n",
      "Loss: 8.383377075195312\n",
      "Loss: 10.833468437194824\n",
      "Loss: 6.526091575622559\n",
      "Loss: 10.141081809997559\n",
      "Loss: 7.352585792541504\n",
      "Loss: 8.3993558883667\n",
      "Loss: 6.797913551330566\n",
      "Loss: 7.332984924316406\n",
      "Loss: 6.358208656311035\n",
      "Loss: 6.100376605987549\n",
      "Loss: 7.775653839111328\n",
      "Loss: 6.942566394805908\n",
      "Loss: 6.865119457244873\n",
      "Loss: 5.502302646636963\n",
      "Loss: 4.898306369781494\n",
      "Loss: 4.464327335357666\n",
      "Loss: 5.17969274520874\n",
      "Loss: 3.853623867034912\n",
      "Loss: 3.3632638454437256\n",
      "Loss: 2.8544232845306396\n",
      "Loss: 3.4212331771850586\n",
      "Loss: 2.706090211868286\n",
      "Loss: 2.584737777709961\n",
      "Loss: 2.5216493606567383\n",
      "Loss: 1.6283177137374878\n",
      "Loss: 2.680100440979004\n",
      "Loss: 1.5542430877685547\n",
      "Loss: 2.5166306495666504\n",
      "Loss: 0.47972792387008667\n",
      "Loss: 2.2414815425872803\n",
      "Loss: 2.5684421062469482\n",
      "Loss: 1.3044382333755493\n",
      "Loss: 1.3398805856704712\n",
      "Loss: 2.5307581424713135\n",
      "Loss: 2.3730647563934326\n",
      "Loss: 1.188109278678894\n",
      "Loss: 0.9427446126937866\n",
      "Loss: 2.6204919815063477\n",
      "Loss: 1.3392949104309082\n",
      "Loss: 2.572474241256714\n",
      "Loss: 0.2126515954732895\n",
      "Loss: 0.6505958437919617\n",
      "Loss: 0.9345520734786987\n",
      "Loss: 0.9537401795387268\n",
      "Loss: 0.38397008180618286\n",
      "Loss: 0.970467209815979\n",
      "Loss: 0.8465343117713928\n",
      "Loss: 1.1184847354888916\n",
      "Loss: 0.9829837083816528\n",
      "Loss: 1.0859719514846802\n",
      "Loss: 0.9191654324531555\n",
      "Loss: 0.7269236445426941\n",
      "Loss: 0.3980521261692047\n",
      "Loss: 0.8904690146446228\n",
      "Loss: 1.0099575519561768\n",
      "Loss: 0.3640805780887604\n",
      "Loss: 0.5786523818969727\n",
      "Loss: 0.7141326069831848\n",
      "Loss: 1.2103981971740723\n",
      "Loss: 1.1269338130950928\n",
      "Loss: 0.603287398815155\n",
      "Loss: 0.9916989803314209\n",
      "Loss: 2.3646345138549805\n",
      "Loss: 0.8308443427085876\n",
      "Loss: 0.9483190774917603\n",
      "Loss: 2.2197914123535156\n",
      "Loss: 2.2801332473754883\n",
      "Loss: 1.2654403448104858\n",
      "Loss: 1.2357081174850464\n",
      "Loss: 1.1343144178390503\n",
      "Loss: 1.928473711013794\n",
      "Loss: 1.1322273015975952\n",
      "Loss: 1.7918039560317993\n",
      "Loss: 0.8401790261268616\n",
      "Loss: 1.933448076248169\n",
      "Loss: 0.14285118877887726\n",
      "Loss: 1.988012433052063\n",
      "Loss: 2.810253858566284\n",
      "Loss: 1.0609629154205322\n",
      "Loss: 2.13873028755188\n",
      "Loss: 1.6220383644104004\n",
      "Loss: 0.6717793941497803\n",
      "Loss: 0.6082998514175415\n",
      "Loss: 0.18804706633090973\n",
      "Loss: 0.17753608524799347\n",
      "Epoch 1 completed!\n"
     ]
    }
   ],
   "source": [
    "import matplotlib.pyplot as plt\n",
    "from torch.utils.data import DataLoader\n",
    "import torch\n",
    "\n",
    "# Prepare data loader\n",
    "data_loader = DataLoader(tokenized_dataset, batch_size=4)\n",
    "\n",
    "# Define optimizer\n",
    "optimizer = torch.optim.AdamW(model.parameters(), lr=5e-5)\n",
    "\n",
    "# Initialize an empty list to store the loss values\n",
    "losses = []\n",
    "\n",
    "# Training loop\n",
    "for epoch in range(1):\n",
    "    print(f\"Starting epoch {epoch + 1}\")\n",
    "    for batch in data_loader:\n",
    "        inputs = batch[\"input_ids\"].to(model.device)\n",
    "        labels = inputs.clone()\n",
    "        \n",
    "        # Forward pass\n",
    "        outputs = model(inputs, labels=labels)\n",
    "        loss = outputs.loss\n",
    "        losses.append(loss.item())  # Store the loss\n",
    "        \n",
    "        # Backward pass\n",
    "        loss.backward()\n",
    "        optimizer.step()\n",
    "        optimizer.zero_grad()\n",
    "        \n",
    "        print(f\"Loss: {loss.item()}\")\n",
    "    print(f\"Epoch {epoch + 1} completed!\")\n"
   ]
  },
  {
   "cell_type": "markdown",
   "metadata": {},
   "source": [
    "# Plot the loss values\n"
   ]
  },
  {
   "cell_type": "code",
   "execution_count": 8,
   "metadata": {},
   "outputs": [
    {
     "data": {
      "image/png": "[encoded data removed]",
      "text/plain": [
       "<Figure size 1000x600 with 1 Axes>"
      ]
     },
     "metadata": {},
     "output_type": "display_data"
    }
   ],
   "source": [
    "# Plot the loss values\n",
    "plt.figure(figsize=(10, 6))\n",
    "plt.plot(losses, label=\"Training Loss\")\n",
    "plt.xlabel(\"Batch Number\")\n",
    "plt.ylabel(\"Loss\")\n",
    "plt.title(\"Training Loss Over Time\")\n",
    "plt.legend()\n",
    "plt.grid(True)\n",
    "plt.show()\n"
   ]
  }
 ],
 "metadata": {
  "kernelspec": {
   "display_name": ".venv",
   "language": "python",
   "name": "python3"
  },
  "language_info": {
   "codemirror_mode": {
    "name": "ipython",
    "version": 3
   },
   "file_extension": ".py",
   "mimetype": "text/x-python",
   "name": "python",
   "nbconvert_exporter": "python",
   "pygments_lexer": "ipython3",
   "version": "3.12.8"
  }
 },
 "nbformat": 4,
 "nbformat_minor": 4
}
