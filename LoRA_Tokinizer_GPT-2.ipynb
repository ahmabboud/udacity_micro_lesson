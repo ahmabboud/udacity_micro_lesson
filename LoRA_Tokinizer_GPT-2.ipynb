{
 "cells": [
  {
   "cell_type": "markdown",
   "metadata": {},
   "source": [
    "# Parameter-Efficient Fine-Tuning with LoRA\n",
    "\n",
    "This notebook demonstrates how to use **LoRA (Low-Rank Adaptation)** to fine-tune a pretrained GPT-2 model efficiently. LoRA reduces memory usage and computational costs by freezing most model parameters and training small, low-rank matrices."
   ]
  },
  {
   "cell_type": "markdown",
   "metadata": {},
   "source": [
    "## Introduction\n",
    "\n",
    "Fine-tuning large language models (LLMs) can be computationally expensive and memory-intensive, especially for practitioners with limited hardware resources. **LoRA (Low-Rank Adaptation)** provides a solution by freezing most of the model's parameters and introducing trainable, low-rank matrices to adapt the model for new tasks.\n",
    "\n",
    "This notebook walks you through the process of applying LoRA to a pretrained GPT-2 model for fine-tuning on a small dataset. By the end of this tutorial, you will:\n",
    "- Understand how LoRA modifies the model architecture.\n",
    "- Fine-tune a GPT-2 model using LoRA.\n",
    "- Tokenize and preprocess datasets for efficient training.\n",
    "- Visualize the training loss to evaluate the process.\n"
   ]
  },
  {
   "cell_type": "markdown",
   "metadata": {},
   "source": [
    "## Prerequisites\n",
    "\n",
    "To get the most out of this notebook, you should have:\n",
    "- A basic understanding of machine learning concepts.\n",
    "- Familiarity with **transformers** library by Hugging Face.\n",
    "- Experience working with large language models and fine-tuning techniques.\n",
    "\n",
    "Additionally, ensure you have access to a GPU-enabled environment, as fine-tuning large models requires substantial computational resources."
   ]
  },
  {
   "cell_type": "code",
   "execution_count": 31,
   "metadata": {},
   "outputs": [],
   "source": [
    "# Install required libraries\n",
    "# !pip install transformers datasets peft matplotlib "
   ]
  },
  {
   "cell_type": "markdown",
   "metadata": {},
   "source": [
    "## Step 1: Load Pretrained GPT-2 Model and Tokenizer"
   ]
  },
  {
   "cell_type": "code",
   "execution_count": 32,
   "metadata": {},
   "outputs": [
    {
     "name": "stdout",
     "output_type": "stream",
     "text": [
      "Model loaded successfully!\n"
     ]
    }
   ],
   "source": [
    "from transformers import AutoModelForCausalLM, AutoTokenizer\n",
    "\n",
    "# Load GPT-2 model and tokenizer\n",
    "model = AutoModelForCausalLM.from_pretrained(\"gpt2\") # Load GPT-2 model with causal language modeling head\n",
    "tokenizer = AutoTokenizer.from_pretrained(\"gpt2\") # Load GPT-2 tokenizer\n",
    "\n",
    "# Set an existing token (e.g., eos_token) as the padding token (The GPT-2 tokenizer already has an eos_token (End of Sequence) that can serve as a padding token)\n",
    "tokenizer.pad_token = tokenizer.eos_token # Set the padding token to be the eos_token\n",
    "\n",
    "# Print model summary\n",
    "print(\"Model loaded successfully!\")"
   ]
  },
  {
   "cell_type": "markdown",
   "metadata": {},
   "source": [
    "## Step 2: Apply LoRA Configuration to the Model"
   ]
  },
  {
   "cell_type": "code",
   "execution_count": 33,
   "metadata": {},
   "outputs": [
    {
     "name": "stdout",
     "output_type": "stream",
     "text": [
      "LoRA applied successfully!\n"
     ]
    }
   ],
   "source": [
    "from peft import LoraConfig, get_peft_model # Import LoRA configuration and function to apply LoRA to the model from PEFT library\n",
    "\n",
    "# Define LoRA configuration\n",
    "lora_config = LoraConfig(\n",
    "    r=8,            # Low-rank dimension\n",
    "    lora_alpha=32,  # Scaling factor\n",
    "    target_modules=[\"c_attn\", \"c_proj\"],  # Target attention layers\n",
    "    lora_dropout=0.1, # Dropout rate\n",
    "    fan_in_fan_out=True  # Set this explicitly for Conv1D ensures compatibility with their specific architecture.\n",
    ") \n",
    "\n",
    "# Apply LoRA to the model\n",
    "model = get_peft_model(model, lora_config) \n",
    "\n",
    "# Print confirmation\n",
    "print(\"LoRA applied successfully!\")"
   ]
  },
  {
   "cell_type": "markdown",
   "metadata": {},
   "source": [
    "## Step 3: Load and Tokenize Dataset"
   ]
  },
  {
   "cell_type": "code",
   "execution_count": 34,
   "metadata": {},
   "outputs": [
    {
     "name": "stdout",
     "output_type": "stream",
     "text": [
      "Dataset tokenized successfully!\n"
     ]
    }
   ],
   "source": [
    "from datasets import load_dataset\n",
    "\n",
    "# Load a small dataset (e.g., WikiText)\n",
    "dataset = load_dataset('wikitext', 'wikitext-2-v1', split='train[:1%]') # Load 1% of the WikiText-2 dataset\n",
    "\n",
    "# # Set an existing token (e.g., eos_token) as the padding token (The GPT-2 tokenizer already has an eos_token (End of Sequence) that can serve as a padding token)\n",
    "# tokenizer.pad_token = tokenizer.eos_token\n",
    "\n",
    "# Tokenize the dataset\n",
    "def tokenize_function(examples):\n",
    "    return tokenizer(examples[\"text\"], padding=\"max_length\", truncation=True, max_length=128)\n",
    "\n",
    "# Apply tokenization\n",
    "tokenized_dataset = dataset.map(tokenize_function, batched=True)\n",
    "\n",
    "# Convert tokenized dataset to PyTorch tensors\n",
    "tokenized_dataset.set_format(type=\"torch\", columns=[\"input_ids\", \"attention_mask\"])\n",
    "\n",
    "# Print confirmation\n",
    "print(\"Dataset tokenized successfully!\")"
   ]
  },
  {
   "cell_type": "markdown",
   "metadata": {},
   "source": [
    "## Step 4: Fine-Tune the Model "
   ]
  },
  {
   "cell_type": "code",
   "execution_count": 35,
   "metadata": {},
   "outputs": [
    {
     "name": "stdout",
     "output_type": "stream",
     "text": [
      "Starting epoch 1\n",
      "Loss: 11.213605880737305\n",
      "Loss: 9.260429382324219\n",
      "Loss: 7.136002063751221\n",
      "Loss: 11.078072547912598\n",
      "Loss: 8.75053882598877\n",
      "Loss: 7.989888668060303\n",
      "Loss: 10.361249923706055\n",
      "Loss: 8.396666526794434\n",
      "Loss: 10.872241020202637\n",
      "Loss: 6.542841911315918\n",
      "Loss: 10.191031455993652\n",
      "Loss: 7.389627456665039\n",
      "Loss: 8.499870300292969\n",
      "Loss: 6.893536567687988\n",
      "Loss: 7.437653541564941\n",
      "Loss: 6.445542812347412\n",
      "Loss: 6.254607677459717\n",
      "Loss: 8.103507995605469\n",
      "Loss: 7.201683044433594\n",
      "Loss: 7.105834484100342\n",
      "Loss: 5.628706455230713\n",
      "Loss: 5.0148091316223145\n",
      "Loss: 4.499671459197998\n",
      "Loss: 5.394765853881836\n",
      "Loss: 3.9969675540924072\n",
      "Loss: 3.524667978286743\n",
      "Loss: 2.9815011024475098\n",
      "Loss: 3.4963691234588623\n",
      "Loss: 2.848078966140747\n",
      "Loss: 2.649474859237671\n",
      "Loss: 2.605923891067505\n",
      "Loss: 1.653231143951416\n",
      "Loss: 2.745997190475464\n",
      "Loss: 1.5725406408309937\n",
      "Loss: 2.584290027618408\n",
      "Loss: 0.4718155860900879\n",
      "Loss: 2.310708522796631\n",
      "Loss: 2.635611057281494\n",
      "Loss: 1.3228306770324707\n",
      "Loss: 1.3579076528549194\n",
      "Loss: 2.5277562141418457\n",
      "Loss: 2.3978469371795654\n",
      "Loss: 1.2016944885253906\n",
      "Loss: 0.9502277374267578\n",
      "Loss: 2.667189359664917\n",
      "Loss: 1.3380193710327148\n",
      "Loss: 2.5676403045654297\n",
      "Loss: 0.20841066539287567\n",
      "Loss: 0.6456179618835449\n",
      "Loss: 0.9399163126945496\n",
      "Loss: 0.9446431994438171\n",
      "Loss: 0.3798291087150574\n",
      "Loss: 0.9590529203414917\n",
      "Loss: 0.8381455540657043\n",
      "Loss: 1.1078790426254272\n",
      "Loss: 0.9782173037528992\n",
      "Loss: 1.0781395435333252\n",
      "Loss: 0.9170064330101013\n",
      "Loss: 0.7241583466529846\n",
      "Loss: 0.39729419350624084\n",
      "Loss: 0.8797194361686707\n",
      "Loss: 0.9969649910926819\n",
      "Loss: 0.35942843556404114\n",
      "Loss: 0.5704070329666138\n",
      "Loss: 0.7098143100738525\n",
      "Loss: 1.2035866975784302\n",
      "Loss: 1.1251956224441528\n",
      "Loss: 0.6006922125816345\n",
      "Loss: 0.9904366731643677\n",
      "Loss: 2.3641304969787598\n",
      "Loss: 0.8359396457672119\n",
      "Loss: 0.9518551826477051\n",
      "Loss: 2.220364570617676\n",
      "Loss: 2.2771503925323486\n",
      "Loss: 1.2618398666381836\n",
      "Loss: 1.2354135513305664\n",
      "Loss: 1.1328827142715454\n",
      "Loss: 1.9275195598602295\n",
      "Loss: 1.1333469152450562\n",
      "Loss: 1.7947512865066528\n",
      "Loss: 0.842979907989502\n",
      "Loss: 1.9270421266555786\n",
      "Loss: 0.14229115843772888\n",
      "Loss: 1.9824461936950684\n",
      "Loss: 2.808640241622925\n",
      "Loss: 1.0590182542800903\n",
      "Loss: 2.136667251586914\n",
      "Loss: 1.6224499940872192\n",
      "Loss: 0.6747449040412903\n",
      "Loss: 0.607447624206543\n",
      "Loss: 0.18773822486400604\n",
      "Loss: 0.1769859790802002\n",
      "Epoch 1 completed!\n"
     ]
    }
   ],
   "source": [
    "from torch.utils.data import DataLoader\n",
    "import torch\n",
    "import matplotlib.pyplot as plt\n",
    "\n",
    "# Prepare data loader\n",
    "data_loader = DataLoader(tokenized_dataset, batch_size=4)\n",
    "\n",
    "# Define optimizer\n",
    "optimizer = torch.optim.AdamW(model.parameters(), lr=5e-5)\n",
    "\n",
    "# Initialize an empty list to store loss values\n",
    "losses = []\n",
    "\n",
    "# Training loop\n",
    "for epoch in range(1):\n",
    "    print(f\"Starting epoch {epoch + 1}\")\n",
    "    for batch in data_loader:\n",
    "        inputs = batch[\"input_ids\"].to(model.device)\n",
    "        labels = inputs.clone()\n",
    "        \n",
    "        # Forward pass\n",
    "        outputs = model(inputs, labels=labels)\n",
    "        loss = outputs.loss\n",
    "        losses.append(loss.item())\n",
    "        \n",
    "        # Backward pass\n",
    "        loss.backward()\n",
    "        optimizer.step()\n",
    "        optimizer.zero_grad()\n",
    "        \n",
    "        print(f\"Loss: {loss.item()}\")\n",
    "    print(f\"Epoch {epoch + 1} completed!\")\n",
    "\n"
   ]
  },
  {
   "cell_type": "markdown",
   "metadata": {},
   "source": [
    "# Plot training loss"
   ]
  },
  {
   "cell_type": "code",
   "execution_count": 36,
   "metadata": {},
   "outputs": [
    {
     "data": {
      "image/png": "[encoded data removed]",
      "text/plain": [
       "<Figure size 1000x600 with 1 Axes>"
      ]
     },
     "metadata": {},
     "output_type": "display_data"
    }
   ],
   "source": [
    "# Plot training loss\n",
    "plt.figure(figsize=(10, 6))\n",
    "plt.plot(losses, label=\"Training Loss\")\n",
    "plt.xlabel(\"Batch Number\")\n",
    "plt.ylabel(\"Loss\")\n",
    "plt.title(\"Training Loss Over Time\")\n",
    "plt.legend()\n",
    "plt.grid(True)\n",
    "plt.show()"
   ]
  },
  {
   "cell_type": "markdown",
   "metadata": {},
   "source": [
    "# Common Mistakes\n",
    "\n",
    "\n",
    "- Make sure that all the libraries and prerequisits are installed before running this notebook\n"
   ]
  },
  {
   "cell_type": "markdown",
   "metadata": {},
   "source": [
    "# Best Practice\n",
    "- create a separated virtual environment for this lab"
   ]
  }
 ],
 "metadata": {
  "kernelspec": {
   "display_name": ".venv",
   "language": "python",
   "name": "python3"
  },
  "language_info": {
   "codemirror_mode": {
    "name": "ipython",
    "version": 3
   },
   "file_extension": ".py",
   "mimetype": "text/x-python",
   "name": "python",
   "nbconvert_exporter": "python",
   "pygments_lexer": "ipython3",
   "version": "3.12.8"
  }
 },
 "nbformat": 4,
 "nbformat_minor": 4
}
